{
 "cells": [
  {
   "cell_type": "markdown",
   "id": "8d095060-6db5-458e-ae7b-432333ae526c",
   "metadata": {},
   "source": [
    "# Use this notebook as a scratch sheet for terminal galaga"
   ]
  },
  {
   "cell_type": "code",
   "execution_count": 4,
   "id": "4e8f0acc-9fb3-49db-aedd-cfdad2f449ce",
   "metadata": {},
   "outputs": [
    {
     "name": "stdout",
     "output_type": "stream",
     "text": [
      "['a', 'b', 'c', 'd', 'e', 'f', 'g', 'h', 'i', 'j', 'k', 'l', 'm', 'n', 'o', 'p', 'q', 'r', 's', 't', 'u', 'v', 'w', 'x', 'y', 'z']\n"
     ]
    }
   ],
   "source": [
    "alphabet = ['a', 'b', 'c', 'd', 'e', 'f', 'g', 'h', 'i', 'j', 'k', 'l', 'm', 'n', 'o', 'p', 'q', 'r']\n",
    "alphabet += ['s', 't', 'u', 'v', 'w', 'x', 'y', 'z']\n",
    "print(alphabet)"
   ]
  },
  {
   "cell_type": "code",
   "execution_count": 5,
   "id": "e9ea4bb7-3a57-453e-8c7f-eb2bd557c3bc",
   "metadata": {},
   "outputs": [
    {
     "name": "stdout",
     "output_type": "stream",
     "text": [
      "a9b9c9d9e9f9g9h9i9j9k9l9m9n9o9p9q9r9s9t9u9v9w9x9y9z9\n",
      "ALPHABET\n"
     ]
    }
   ],
   "source": [
    "for letter in alphabet:\n",
    "    print(letter, end='9')\n",
    "print()\n",
    "print('ALPHABET')"
   ]
  },
  {
   "cell_type": "markdown",
   "id": "77df8b44-d2cf-4250-879e-a4f0c7bf994a",
   "metadata": {},
   "source": [
    "<hr>\n",
    "<hr>\n",
    "<hr>\n",
    "<hr>"
   ]
  },
  {
   "cell_type": "markdown",
   "id": "6092716d-f306-46bc-8b9d-1d3cd8c30dc2",
   "metadata": {},
   "source": [
    "okay so we need a clear screen update screen running track of frames\n",
    "\n",
    "we should work on a blank scene that lets us pass in keyboard strokes\n",
    "\n",
    "so how do we pass in keyboard input when a loop is running?? idk tbh\n",
    "\n",
    "but work on preprogramed game movement we can add our ship movement and shot animations and logic later\n",
    "\n",
    "so like pisxel art it convert it to binary matricies that are passed into the game board matricy\n",
    "\n",
    "make one that shows a little dude go across the screen and push it to terminal galaga\n",
    "\n",
    "push this to terminal galaga and its own repo also\n"
   ]
  },
  {
   "cell_type": "code",
   "execution_count": 9,
   "id": "8fa7b9e4-07a8-4a84-9888-d6e397437f53",
   "metadata": {},
   "outputs": [],
   "source": [
    "import numpy as np\n",
    "from os import sys"
   ]
  },
  {
   "cell_type": "code",
   "execution_count": 12,
   "id": "91b0ed33-dfb0-4b24-977c-01cc22059bf3",
   "metadata": {},
   "outputs": [
    {
     "name": "stdout",
     "output_type": "stream",
     "text": [
      "[[0. 0. 0. 0. 0. 0. 0. 0. 0. 0. 0. 0. 0. 0. 0. 0. 0. 0. 0. 0.]\n",
      " [0. 0. 0. 0. 0. 0. 0. 0. 0. 0. 0. 0. 0. 0. 0. 0. 0. 0. 0. 0.]\n",
      " [0. 0. 0. 0. 0. 0. 0. 0. 0. 0. 0. 0. 0. 0. 0. 0. 0. 0. 0. 0.]\n",
      " [0. 0. 0. 0. 0. 0. 0. 0. 0. 0. 0. 0. 0. 0. 0. 0. 0. 0. 0. 0.]\n",
      " [0. 0. 0. 0. 0. 0. 0. 0. 0. 0. 0. 0. 0. 0. 0. 0. 0. 0. 0. 0.]\n",
      " [0. 0. 0. 0. 0. 0. 0. 0. 0. 0. 0. 0. 0. 0. 0. 0. 0. 0. 0. 0.]\n",
      " [0. 0. 0. 0. 0. 0. 0. 0. 0. 0. 0. 0. 0. 0. 0. 0. 0. 0. 0. 0.]\n",
      " [0. 0. 0. 0. 0. 0. 0. 0. 0. 0. 0. 0. 0. 0. 0. 0. 0. 0. 0. 0.]\n",
      " [0. 0. 0. 0. 0. 0. 0. 0. 0. 0. 0. 0. 0. 0. 0. 0. 0. 0. 0. 0.]\n",
      " [0. 0. 0. 0. 0. 0. 0. 0. 0. 0. 0. 0. 0. 0. 0. 0. 0. 0. 0. 0.]\n",
      " [0. 0. 0. 0. 0. 0. 0. 0. 0. 0. 0. 0. 0. 0. 0. 0. 0. 0. 0. 0.]\n",
      " [0. 0. 0. 0. 0. 0. 0. 0. 0. 0. 0. 0. 0. 0. 0. 0. 0. 0. 0. 0.]\n",
      " [0. 0. 0. 0. 0. 0. 0. 0. 0. 0. 0. 0. 0. 0. 0. 0. 0. 0. 0. 0.]\n",
      " [0. 0. 0. 0. 0. 0. 0. 0. 0. 0. 0. 0. 0. 0. 0. 0. 0. 0. 0. 0.]\n",
      " [0. 0. 0. 0. 0. 0. 0. 0. 0. 0. 0. 0. 0. 0. 0. 0. 0. 0. 0. 0.]\n",
      " [0. 0. 0. 0. 0. 0. 0. 0. 0. 0. 0. 0. 0. 0. 0. 0. 0. 0. 0. 0.]\n",
      " [0. 0. 0. 0. 0. 0. 0. 0. 0. 0. 0. 0. 0. 0. 0. 0. 0. 0. 0. 0.]\n",
      " [0. 0. 0. 0. 0. 0. 0. 0. 0. 0. 0. 0. 0. 0. 0. 0. 0. 0. 0. 0.]\n",
      " [0. 0. 0. 0. 0. 0. 0. 0. 0. 0. 0. 0. 0. 0. 0. 0. 0. 0. 0. 0.]\n",
      " [0. 0. 0. 0. 0. 0. 0. 0. 0. 0. 0. 0. 0. 0. 0. 0. 0. 0. 0. 0.]]\n"
     ]
    }
   ],
   "source": [
    "screen = np.zeros((20, 20))\n",
    "np.set_printoptions(threshold=sys.maxsize)\n",
    "print(screen)"
   ]
  },
  {
   "cell_type": "markdown",
   "id": "fe10ffad-bb3b-4505-b706-f617616f3842",
   "metadata": {},
   "source": [
    "right so theres our screen"
   ]
  },
  {
   "cell_type": "markdown",
   "id": "45392b91-44f5-4dc6-b041-627abf2a0e59",
   "metadata": {},
   "source": [
    "so lets make an array that holds an enemy"
   ]
  },
  {
   "cell_type": "markdown",
   "id": "3158a33c-bc30-40fe-86ec-80bb970f27d5",
   "metadata": {},
   "source": [
    "hey for this example lets skip logic of matrix insertion into larger matricy\n",
    "\n",
    "our enemy is just gonna be a single point"
   ]
  },
  {
   "cell_type": "code",
   "execution_count": 14,
   "id": "4d8121df-7666-4979-8f8d-715c077ef6cd",
   "metadata": {},
   "outputs": [],
   "source": [
    "enemy = 1"
   ]
  },
  {
   "cell_type": "markdown",
   "id": "6d90539a-f7f2-4a79-88be-a283289d097c",
   "metadata": {},
   "source": [
    "so set the enemy position to the origin (left upper corner)"
   ]
  },
  {
   "cell_type": "code",
   "execution_count": 16,
   "id": "1c9fb2fa-37ab-4c2f-bcea-a236b49d7011",
   "metadata": {},
   "outputs": [
    {
     "name": "stdout",
     "output_type": "stream",
     "text": [
      "this allegedly selects the first row\n"
     ]
    }
   ],
   "source": [
    "screen[0]\n",
    "print('this allegedly selects the first row')\n"
   ]
  },
  {
   "cell_type": "markdown",
   "id": "e92ba200-d09b-4414-9b18-68581e672562",
   "metadata": {},
   "source": [
    "lets test it by putting the enemy in the origin and redrawing the screen"
   ]
  },
  {
   "cell_type": "code",
   "execution_count": 18,
   "id": "17292759-ed3c-400d-9448-98bba0db6602",
   "metadata": {},
   "outputs": [],
   "source": [
    "screen[0, 0] = enemy"
   ]
  },
  {
   "cell_type": "code",
   "execution_count": 19,
   "id": "7556502d-c3e7-4c55-88b4-bc0bb71982ba",
   "metadata": {},
   "outputs": [
    {
     "name": "stdout",
     "output_type": "stream",
     "text": [
      "[[1. 0. 0. 0. 0. 0. 0. 0. 0. 0. 0. 0. 0. 0. 0. 0. 0. 0. 0. 0.]\n",
      " [0. 0. 0. 0. 0. 0. 0. 0. 0. 0. 0. 0. 0. 0. 0. 0. 0. 0. 0. 0.]\n",
      " [0. 0. 0. 0. 0. 0. 0. 0. 0. 0. 0. 0. 0. 0. 0. 0. 0. 0. 0. 0.]\n",
      " [0. 0. 0. 0. 0. 0. 0. 0. 0. 0. 0. 0. 0. 0. 0. 0. 0. 0. 0. 0.]\n",
      " [0. 0. 0. 0. 0. 0. 0. 0. 0. 0. 0. 0. 0. 0. 0. 0. 0. 0. 0. 0.]\n",
      " [0. 0. 0. 0. 0. 0. 0. 0. 0. 0. 0. 0. 0. 0. 0. 0. 0. 0. 0. 0.]\n",
      " [0. 0. 0. 0. 0. 0. 0. 0. 0. 0. 0. 0. 0. 0. 0. 0. 0. 0. 0. 0.]\n",
      " [0. 0. 0. 0. 0. 0. 0. 0. 0. 0. 0. 0. 0. 0. 0. 0. 0. 0. 0. 0.]\n",
      " [0. 0. 0. 0. 0. 0. 0. 0. 0. 0. 0. 0. 0. 0. 0. 0. 0. 0. 0. 0.]\n",
      " [0. 0. 0. 0. 0. 0. 0. 0. 0. 0. 0. 0. 0. 0. 0. 0. 0. 0. 0. 0.]\n",
      " [0. 0. 0. 0. 0. 0. 0. 0. 0. 0. 0. 0. 0. 0. 0. 0. 0. 0. 0. 0.]\n",
      " [0. 0. 0. 0. 0. 0. 0. 0. 0. 0. 0. 0. 0. 0. 0. 0. 0. 0. 0. 0.]\n",
      " [0. 0. 0. 0. 0. 0. 0. 0. 0. 0. 0. 0. 0. 0. 0. 0. 0. 0. 0. 0.]\n",
      " [0. 0. 0. 0. 0. 0. 0. 0. 0. 0. 0. 0. 0. 0. 0. 0. 0. 0. 0. 0.]\n",
      " [0. 0. 0. 0. 0. 0. 0. 0. 0. 0. 0. 0. 0. 0. 0. 0. 0. 0. 0. 0.]\n",
      " [0. 0. 0. 0. 0. 0. 0. 0. 0. 0. 0. 0. 0. 0. 0. 0. 0. 0. 0. 0.]\n",
      " [0. 0. 0. 0. 0. 0. 0. 0. 0. 0. 0. 0. 0. 0. 0. 0. 0. 0. 0. 0.]\n",
      " [0. 0. 0. 0. 0. 0. 0. 0. 0. 0. 0. 0. 0. 0. 0. 0. 0. 0. 0. 0.]\n",
      " [0. 0. 0. 0. 0. 0. 0. 0. 0. 0. 0. 0. 0. 0. 0. 0. 0. 0. 0. 0.]\n",
      " [0. 0. 0. 0. 0. 0. 0. 0. 0. 0. 0. 0. 0. 0. 0. 0. 0. 0. 0. 0.]]\n"
     ]
    }
   ],
   "source": [
    "print(screen)"
   ]
  },
  {
   "cell_type": "markdown",
   "id": "c8f50c13-a9ed-4a3e-84b4-3055881329aa",
   "metadata": {},
   "source": [
    "we can see the enemy in the corner now"
   ]
  },
  {
   "cell_type": "markdown",
   "id": "7f19c12f-457b-47a9-895b-27d2e597047b",
   "metadata": {},
   "source": [
    "lets move the enemy over 5 steps or something\n"
   ]
  },
  {
   "cell_type": "code",
   "execution_count": 20,
   "id": "1eafa1ca-9a2f-4c86-81f0-94b5eec3593d",
   "metadata": {},
   "outputs": [
    {
     "name": "stdout",
     "output_type": "stream",
     "text": [
      "[[0. 0. 0. 0. 0. 1. 0. 0. 0. 0. 0. 0. 0. 0. 0. 0. 0. 0. 0. 0.]\n",
      " [0. 0. 0. 0. 0. 0. 0. 0. 0. 0. 0. 0. 0. 0. 0. 0. 0. 0. 0. 0.]\n",
      " [0. 0. 0. 0. 0. 0. 0. 0. 0. 0. 0. 0. 0. 0. 0. 0. 0. 0. 0. 0.]\n",
      " [0. 0. 0. 0. 0. 0. 0. 0. 0. 0. 0. 0. 0. 0. 0. 0. 0. 0. 0. 0.]\n",
      " [0. 0. 0. 0. 0. 0. 0. 0. 0. 0. 0. 0. 0. 0. 0. 0. 0. 0. 0. 0.]\n",
      " [0. 0. 0. 0. 0. 0. 0. 0. 0. 0. 0. 0. 0. 0. 0. 0. 0. 0. 0. 0.]\n",
      " [0. 0. 0. 0. 0. 0. 0. 0. 0. 0. 0. 0. 0. 0. 0. 0. 0. 0. 0. 0.]\n",
      " [0. 0. 0. 0. 0. 0. 0. 0. 0. 0. 0. 0. 0. 0. 0. 0. 0. 0. 0. 0.]\n",
      " [0. 0. 0. 0. 0. 0. 0. 0. 0. 0. 0. 0. 0. 0. 0. 0. 0. 0. 0. 0.]\n",
      " [0. 0. 0. 0. 0. 0. 0. 0. 0. 0. 0. 0. 0. 0. 0. 0. 0. 0. 0. 0.]\n",
      " [0. 0. 0. 0. 0. 0. 0. 0. 0. 0. 0. 0. 0. 0. 0. 0. 0. 0. 0. 0.]\n",
      " [0. 0. 0. 0. 0. 0. 0. 0. 0. 0. 0. 0. 0. 0. 0. 0. 0. 0. 0. 0.]\n",
      " [0. 0. 0. 0. 0. 0. 0. 0. 0. 0. 0. 0. 0. 0. 0. 0. 0. 0. 0. 0.]\n",
      " [0. 0. 0. 0. 0. 0. 0. 0. 0. 0. 0. 0. 0. 0. 0. 0. 0. 0. 0. 0.]\n",
      " [0. 0. 0. 0. 0. 0. 0. 0. 0. 0. 0. 0. 0. 0. 0. 0. 0. 0. 0. 0.]\n",
      " [0. 0. 0. 0. 0. 0. 0. 0. 0. 0. 0. 0. 0. 0. 0. 0. 0. 0. 0. 0.]\n",
      " [0. 0. 0. 0. 0. 0. 0. 0. 0. 0. 0. 0. 0. 0. 0. 0. 0. 0. 0. 0.]\n",
      " [0. 0. 0. 0. 0. 0. 0. 0. 0. 0. 0. 0. 0. 0. 0. 0. 0. 0. 0. 0.]\n",
      " [0. 0. 0. 0. 0. 0. 0. 0. 0. 0. 0. 0. 0. 0. 0. 0. 0. 0. 0. 0.]\n",
      " [0. 0. 0. 0. 0. 0. 0. 0. 0. 0. 0. 0. 0. 0. 0. 0. 0. 0. 0. 0.]]\n"
     ]
    }
   ],
   "source": [
    "screen[0, 0] = 0\n",
    "screen [0, 0+5] = enemy\n",
    "print(screen)"
   ]
  },
  {
   "cell_type": "markdown",
   "id": "c73f5d22-5f16-4a92-be82-6012a02a1579",
   "metadata": {},
   "source": [
    "right? but do it as a matrix insertion not just a single element insertion into screen and then save it and display it in the notebook for example of preprogarmmed galaga movement for terminal based galaga game\n"
   ]
  },
  {
   "cell_type": "markdown",
   "id": "0b1a6603-32aa-4411-899b-21f15dee1f25",
   "metadata": {},
   "source": [
    "\n",
    "# TODO:\n",
    "add to github terminal galaga"
   ]
  },
  {
   "cell_type": "code",
   "execution_count": null,
   "id": "e2e9b477-45d4-45db-bb14-5b06a57e51af",
   "metadata": {},
   "outputs": [],
   "source": []
  }
 ],
 "metadata": {
  "kernelspec": {
   "display_name": "Python 3 (ipykernel)",
   "language": "python",
   "name": "python3"
  },
  "language_info": {
   "codemirror_mode": {
    "name": "ipython",
    "version": 3
   },
   "file_extension": ".py",
   "mimetype": "text/x-python",
   "name": "python",
   "nbconvert_exporter": "python",
   "pygments_lexer": "ipython3",
   "version": "3.12.11"
  }
 },
 "nbformat": 4,
 "nbformat_minor": 5
}
